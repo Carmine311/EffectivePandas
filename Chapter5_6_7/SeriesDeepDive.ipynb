{
 "cells": [
  {
   "cell_type": "code",
   "execution_count": 1,
   "metadata": {},
   "outputs": [
    {
     "name": "stderr",
     "output_type": "stream",
     "text": [
      "/var/folders/61/0_k_4p5x6ps6rb74cyv2c5c80000gn/T/ipykernel_39931/1272747268.py:3: DtypeWarning: Columns (68,70,71,72,73,74,76,79) have mixed types. Specify dtype option on import or set low_memory=False.\n",
      "  df = pd.read_csv(url)\n"
     ]
    }
   ],
   "source": [
    "import pandas as pd\n",
    "url = 'https://github.com/mattharrison/datasets/raw/master/data/vehicles.csv.zip'\n",
    "df = pd.read_csv(url)\n"
   ]
  },
  {
   "cell_type": "code",
   "execution_count": 2,
   "metadata": {},
   "outputs": [
    {
     "data": {
      "text/plain": [
       "(0        19\n",
       " 1         9\n",
       " 2        23\n",
       " 3        10\n",
       " 4        17\n",
       "          ..\n",
       " 41139    19\n",
       " 41140    20\n",
       " 41141    18\n",
       " 41142    18\n",
       " 41143    16\n",
       " Name: city08, Length: 41144, dtype: int64,\n",
       " 0        25\n",
       " 1        14\n",
       " 2        33\n",
       " 3        12\n",
       " 4        23\n",
       "          ..\n",
       " 41139    26\n",
       " 41140    28\n",
       " 41141    24\n",
       " 41142    24\n",
       " 41143    21\n",
       " Name: highway08, Length: 41144, dtype: int64)"
      ]
     },
     "execution_count": 2,
     "metadata": {},
     "output_type": "execute_result"
    }
   ],
   "source": [
    "city_mpg = df.city08\n",
    "highway_mpg = df.highway08\n",
    "\n",
    "city_mpg, highway_mpg"
   ]
  },
  {
   "cell_type": "markdown",
   "metadata": {},
   "source": [
    "The dir function will list the attributes of an object"
   ]
  },
  {
   "cell_type": "code",
   "execution_count": 3,
   "metadata": {},
   "outputs": [
    {
     "data": {
      "text/plain": [
       "420"
      ]
     },
     "execution_count": 3,
     "metadata": {},
     "output_type": "execute_result"
    }
   ],
   "source": [
    "len(dir(city_mpg))"
   ]
  },
  {
   "cell_type": "markdown",
   "metadata": {},
   "source": [
    "<h1>Operators & Dunder Methods</h1>\n",
    "\n",
    "Operators and dunder methods are overloads that determine how Python reacts to operations.\n",
    "\n",
    "When you run 2 + 4, under the covers Python runs (2).__add__(4)"
   ]
  },
  {
   "cell_type": "code",
   "execution_count": 4,
   "metadata": {},
   "outputs": [
    {
     "name": "stdout",
     "output_type": "stream",
     "text": [
      "6\n",
      "6\n"
     ]
    }
   ],
   "source": [
    "print(2 + 4)\n",
    "print((2).__add__(4))"
   ]
  },
  {
   "cell_type": "markdown",
   "metadata": {},
   "source": [
    "<h2>Index Alignment</h2>\n",
    "\n",
    "You can apply most math operations on a series with another series, and you can also use a scalar.\n",
    "When you operate with 2 series, pandas will align the indexes first by matching each index entry in the series on the left with an entry with the same index on the right.\n",
    "\n",
    "Because of index alignment, you want to make sure that the indexes:\n",
    "<ul>\n",
    "    <li>Are unique</li>\n",
    "    <li>Are common to both series</li>\n",
    "</ul>"
   ]
  },
  {
   "cell_type": "code",
   "execution_count": 5,
   "metadata": {},
   "outputs": [
    {
     "data": {
      "text/plain": [
       "0        22.0\n",
       "1        11.5\n",
       "2        28.0\n",
       "3        11.0\n",
       "4        20.0\n",
       "         ... \n",
       "41139    22.5\n",
       "41140    24.0\n",
       "41141    21.0\n",
       "41142    21.0\n",
       "41143    18.5\n",
       "Length: 41144, dtype: float64"
      ]
     },
     "execution_count": 5,
     "metadata": {},
     "output_type": "execute_result"
    }
   ],
   "source": [
    "(city_mpg + highway_mpg) / 2"
   ]
  },
  {
   "cell_type": "markdown",
   "metadata": {},
   "source": [
    "If you don't have matching, distinct indexes, you will end up with missing values and combinations from the duplicates."
   ]
  },
  {
   "cell_type": "code",
   "execution_count": 6,
   "metadata": {},
   "outputs": [],
   "source": [
    "s1 = pd.Series([10,20,30], index=[1,2,2])\n",
    "s2 = pd.Series([35,44,53], index=[2,2,4], name='s2')"
   ]
  },
  {
   "cell_type": "code",
   "execution_count": 7,
   "metadata": {},
   "outputs": [
    {
     "data": {
      "text/plain": [
       "1     NaN\n",
       "2    55.0\n",
       "2    64.0\n",
       "2    65.0\n",
       "2    74.0\n",
       "4     NaN\n",
       "dtype: float64"
      ]
     },
     "execution_count": 7,
     "metadata": {},
     "output_type": "execute_result"
    }
   ],
   "source": [
    "s1 + s2"
   ]
  },
  {
   "cell_type": "markdown",
   "metadata": {},
   "source": [
    "<h2>Broadcasting</h2>\n",
    "\n",
    "When you perform math operations with a scaler, pandas broadcasts the operation to all values.\n",
    "Broadcasting is CPU optimized, since a numeric pandas series is a block of memory."
   ]
  },
  {
   "cell_type": "markdown",
   "metadata": {},
   "source": [
    "<h2>Iteration</h2>\n",
    "\n",
    "the .__iter__ method is what allows iteration in a for loop.\n",
    "You should avoid using a for loop with a series, because you lose the benefits of vectorization.\n",
    "There are better ways to search and filter than using a for loop."
   ]
  },
  {
   "cell_type": "markdown",
   "metadata": {},
   "source": [
    "<h2>Operators</h2>\n",
    "\n",
    "Pandas also provides methods for standard operators, like add. \n",
    "This lets you change the behavior by using different parameters.\n",
    "for example, the add method has the optional fill_na parameter to fill NaN values.\n",
    "Using the .add method with default parameters will produce the same result as the + operator."
   ]
  },
  {
   "cell_type": "code",
   "execution_count": 8,
   "metadata": {},
   "outputs": [
    {
     "data": {
      "text/plain": [
       "1     NaN\n",
       "2    55.0\n",
       "2    64.0\n",
       "2    65.0\n",
       "2    74.0\n",
       "4     NaN\n",
       "dtype: float64"
      ]
     },
     "execution_count": 8,
     "metadata": {},
     "output_type": "execute_result"
    }
   ],
   "source": [
    "s1 + s2"
   ]
  },
  {
   "cell_type": "code",
   "execution_count": 9,
   "metadata": {},
   "outputs": [
    {
     "data": {
      "text/plain": [
       "1     NaN\n",
       "2    55.0\n",
       "2    64.0\n",
       "2    65.0\n",
       "2    74.0\n",
       "4     NaN\n",
       "dtype: float64"
      ]
     },
     "execution_count": 9,
     "metadata": {},
     "output_type": "execute_result"
    }
   ],
   "source": [
    "s1.add(s2)"
   ]
  }
 ],
 "metadata": {
  "interpreter": {
   "hash": "a278654e5a46da964675ff98b1955aab327a7194a6c695087618cd9a7cfc4346"
  },
  "kernelspec": {
   "display_name": "Python 3.9.7 ('ML-SKLRN')",
   "language": "python",
   "name": "python3"
  },
  "language_info": {
   "codemirror_mode": {
    "name": "ipython",
    "version": 3
   },
   "file_extension": ".py",
   "mimetype": "text/x-python",
   "name": "python",
   "nbconvert_exporter": "python",
   "pygments_lexer": "ipython3",
   "version": "3.9.7"
  },
  "orig_nbformat": 4
 },
 "nbformat": 4,
 "nbformat_minor": 2
}
