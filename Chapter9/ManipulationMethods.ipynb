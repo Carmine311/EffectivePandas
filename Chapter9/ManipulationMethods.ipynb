{
 "cells": [
  {
   "cell_type": "code",
   "execution_count": 1,
   "metadata": {},
   "outputs": [
    {
     "name": "stderr",
     "output_type": "stream",
     "text": [
      "/var/folders/61/0_k_4p5x6ps6rb74cyv2c5c80000gn/T/ipykernel_42530/1524119719.py:4: DtypeWarning: Columns (68,70,71,72,73,74,76,79) have mixed types. Specify dtype option on import or set low_memory=False.\n",
      "  df = pd.read_csv(url)\n"
     ]
    }
   ],
   "source": [
    "import pandas as pd\n",
    "import numpy as np\n",
    "url = 'https://github.com/mattharrison/datasets/raw/master/data/vehicles.csv.zip'\n",
    "df = pd.read_csv(url)"
   ]
  },
  {
   "cell_type": "code",
   "execution_count": 2,
   "metadata": {},
   "outputs": [
    {
     "data": {
      "text/plain": [
       "(0        19\n",
       " 1         9\n",
       " 2        23\n",
       " 3        10\n",
       " 4        17\n",
       "          ..\n",
       " 41139    19\n",
       " 41140    20\n",
       " 41141    18\n",
       " 41142    18\n",
       " 41143    16\n",
       " Name: city08, Length: 41144, dtype: int64,\n",
       " 0        25\n",
       " 1        14\n",
       " 2        33\n",
       " 3        12\n",
       " 4        23\n",
       "          ..\n",
       " 41139    26\n",
       " 41140    28\n",
       " 41141    24\n",
       " 41142    24\n",
       " 41143    21\n",
       " Name: highway08, Length: 41144, dtype: int64)"
      ]
     },
     "execution_count": 2,
     "metadata": {},
     "output_type": "execute_result"
    }
   ],
   "source": [
    "city_mpg = df.city08\n",
    "highway_mpg = df.highway08\n",
    "\n",
    "city_mpg, highway_mpg"
   ]
  },
  {
   "cell_type": "markdown",
   "metadata": {},
   "source": [
    "<h2>Manipulation Methods</h2>\n",
    "\n",
    "Manipulation methods help you understand and cleanup the data. They operate on a series and return a new series. These methods usually preserve the index.\n",
    "\n",
    "<h5>.apply and .where</h5>\n",
    "\n",
    "The .apply method allows you to apply a function element-wise to every value. \n",
    "<p>If you pass in a NumPy function that works on an array, it will broadcast the operation to the series.</p>\n",
    "\n",
    "It is generally not good to use because it typically operates on every value, so if your data has a million values, it will be called 1 million times.\n",
    "\n",
    "This breaks the fast, vectorized patterns and falls back to using loop style code."
   ]
  },
  {
   "cell_type": "code",
   "execution_count": 3,
   "metadata": {},
   "outputs": [],
   "source": [
    "def gt20(val):\n",
    "    return val > 20"
   ]
  },
  {
   "cell_type": "code",
   "execution_count": 5,
   "metadata": {},
   "outputs": [
    {
     "name": "stdout",
     "output_type": "stream",
     "text": [
      "32.1 ms ± 5.97 ms per loop (mean ± std. dev. of 7 runs, 10 loops each)\n"
     ]
    }
   ],
   "source": [
    "%%timeit\n",
    "city_mpg.apply(gt20)"
   ]
  },
  {
   "cell_type": "code",
   "execution_count": 6,
   "metadata": {},
   "outputs": [
    {
     "name": "stdout",
     "output_type": "stream",
     "text": [
      "589 µs ± 58.5 µs per loop (mean ± std. dev. of 7 runs, 1000 loops each)\n"
     ]
    }
   ],
   "source": [
    "%%timeit\n",
    "city_mpg.gt(20)"
   ]
  }
 ],
 "metadata": {
  "interpreter": {
   "hash": "a278654e5a46da964675ff98b1955aab327a7194a6c695087618cd9a7cfc4346"
  },
  "kernelspec": {
   "display_name": "Python 3.9.7 ('ML-SKLRN')",
   "language": "python",
   "name": "python3"
  },
  "language_info": {
   "codemirror_mode": {
    "name": "ipython",
    "version": 3
   },
   "file_extension": ".py",
   "mimetype": "text/x-python",
   "name": "python",
   "nbconvert_exporter": "python",
   "pygments_lexer": "ipython3",
   "version": "3.9.7"
  },
  "orig_nbformat": 4
 },
 "nbformat": 4,
 "nbformat_minor": 2
}
